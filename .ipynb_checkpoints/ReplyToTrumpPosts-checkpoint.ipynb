{
 "cells": [
  {
   "cell_type": "code",
   "execution_count": 1,
   "id": "editorial-strain",
   "metadata": {},
   "outputs": [],
   "source": [
    "import praw\n",
    "import os\n",
    "import re\n",
    "import random"
   ]
  },
  {
   "cell_type": "markdown",
   "id": "external-graduate",
   "metadata": {},
   "source": [
    "## Getting creds"
   ]
  },
  {
   "cell_type": "code",
   "execution_count": 2,
   "id": "hawaiian-quarterly",
   "metadata": {},
   "outputs": [],
   "source": [
    "with open('/Users/shashikantdhuppe/Downloads/secrets') as f:\n",
    "    var = f.read()\n",
    "\n",
    "varList = var.split('\\n')\n",
    "\n",
    "d = {}\n",
    "for i in varList:\n",
    "    d[i.split(':')[0]] = i.split(':')[1]"
   ]
  },
  {
   "cell_type": "markdown",
   "id": "chubby-prime",
   "metadata": {},
   "source": [
    "# Tutorial"
   ]
  },
  {
   "cell_type": "code",
   "execution_count": 3,
   "id": "naughty-bookmark",
   "metadata": {},
   "outputs": [],
   "source": [
    "reddit = praw.Reddit('bot1',\n",
    "                     client_id = d['personalusescript'], # hide this somehow before pushing\n",
    "                    client_secret = d['secret'],\n",
    "                     user_agent = d['useragent'],\n",
    "                     username = d['username'],\n",
    "                    password = d['password']) # hide this somehow before pushing"
   ]
  },
  {
   "cell_type": "code",
   "execution_count": 4,
   "id": "worse-baker",
   "metadata": {},
   "outputs": [
    {
     "name": "stdout",
     "output_type": "stream",
     "text": [
      "Butterscotch-Curious\n"
     ]
    }
   ],
   "source": [
    "print(reddit.user.me())"
   ]
  },
  {
   "cell_type": "code",
   "execution_count": 5,
   "id": "extended-israeli",
   "metadata": {},
   "outputs": [],
   "source": [
    "if not os.path.isfile(\"politics/posts_replied_to.txt\"):\n",
    "    posts_replied_to = []\n",
    "else:\n",
    "    with open(\"politics/posts_replied_to.txt\", \"r\") as f:\n",
    "        posts_replied_to = f.read()\n",
    "        posts_replied_to = posts_replied_to.split(\"\\n\")\n",
    "        posts_replied_to = list(filter(None, posts_replied_to))"
   ]
  },
  {
   "cell_type": "code",
   "execution_count": 6,
   "id": "emerging-accordance",
   "metadata": {},
   "outputs": [
    {
     "data": {
      "text/plain": [
       "['rj9kr1',\n",
       " 'rj907f',\n",
       " 'rj8x7j',\n",
       " 'rj8x38',\n",
       " 'rj8kuw',\n",
       " 'rj89r5',\n",
       " 'rj5mox',\n",
       " 'rj3gth',\n",
       " 'rj1o6x',\n",
       " 'rj1nws']"
      ]
     },
     "execution_count": 6,
     "metadata": {},
     "output_type": "execute_result"
    }
   ],
   "source": [
    "posts_replied_to[:3]"
   ]
  },
  {
   "cell_type": "code",
   "execution_count": 7,
   "id": "selected-twins",
   "metadata": {},
   "outputs": [],
   "source": [
    "if not os.path.isfile(\"politics/posts_title_replied_to.txt\"):\n",
    "    posts_title_replied_to = []\n",
    "else:\n",
    "    with open(\"politics/posts_title_replied_to.txt\", \"r\") as f:\n",
    "        posts_title_replied_to = f.read()\n",
    "        posts_title_replied_to = posts_title_replied_to.split(\"\\n\")\n",
    "        posts_title_replied_to = list(filter(None, posts_title_replied_to))"
   ]
  },
  {
   "cell_type": "code",
   "execution_count": 8,
   "id": "express-glasgow",
   "metadata": {},
   "outputs": [
    {
     "data": {
      "text/plain": [
       "['Bot replied Trump should never have been president on Trump accused of ‘classic’ antisemitism after claiming Israel ‘had absolute power over Congress’',\n",
       " 'Bot replied Trump and Trumpism runined the very fabrics of Democracy sigh! on Republican Party agrees to pay $1.6m of Trump’s legal bills in ‘highly unusual’ move',\n",
       " 'Bot replied Trump and Trumpism runined the very fabrics of Democracy sigh! on 1,300 attorneys demand Calif. bar investigate Trump lawyer over effort to overturn election']"
      ]
     },
     "execution_count": 8,
     "metadata": {},
     "output_type": "execute_result"
    }
   ],
   "source": [
    "posts_title_replied_to[:3]"
   ]
  },
  {
   "cell_type": "code",
   "execution_count": 9,
   "id": "removable-obligation",
   "metadata": {},
   "outputs": [],
   "source": [
    "def getPotentialResponses(x):\n",
    "    fileName = x + '.txt'\n",
    "    with open(fileName,'r') as f:\n",
    "        fileContent = f.read()\n",
    "    responses = fileContent.split('\\n')\n",
    "    return random.choice(responses)"
   ]
  },
  {
   "cell_type": "code",
   "execution_count": 10,
   "id": "finnish-municipality",
   "metadata": {},
   "outputs": [],
   "source": [
    "# Banned from r/politics on Dec 18. 2021 11:30 pm\n",
    "subreddit = reddit.subreddit('news') "
   ]
  },
  {
   "cell_type": "code",
   "execution_count": 11,
   "id": "robust-coverage",
   "metadata": {},
   "outputs": [
    {
     "name": "stdout",
     "output_type": "stream",
     "text": [
      "6\n",
      "\n",
      "CPU times: user 153 ms, sys: 11.7 ms, total: 165 ms\n",
      "Wall time: 8.46 s\n"
     ]
    }
   ],
   "source": [
    "%%time\n",
    "count = 0\n",
    "allCount = 0\n",
    "for submission in subreddit.new(limit = 1000):\n",
    "    allCount = allCount + 1\n",
    "    if submission.id not in posts_replied_to and count<10:\n",
    "        if re.search(\"trump\", submission.title, re.IGNORECASE):\n",
    "            count = count + 1\n",
    "            reply = getPotentialResponses('trump')\n",
    "            submission.reply(reply)\n",
    "            posts_title_replied_to.append('Bot replied '+ reply + ' on ' +submission.title+'\\n')\n",
    "            posts_replied_to.append(submission.id)\n",
    "print(count)\n",
    "print()"
   ]
  },
  {
   "cell_type": "code",
   "execution_count": 12,
   "id": "voluntary-memorabilia",
   "metadata": {},
   "outputs": [
    {
     "data": {
      "text/plain": [
       "491"
      ]
     },
     "execution_count": 12,
     "metadata": {},
     "output_type": "execute_result"
    }
   ],
   "source": [
    "allCount"
   ]
  },
  {
   "cell_type": "code",
   "execution_count": 13,
   "id": "neither-retro",
   "metadata": {},
   "outputs": [],
   "source": [
    "with open('posts_replied_to.txt','a') as f:\n",
    "    for i in posts_replied_to:\n",
    "        f.write(i+'\\n')"
   ]
  },
  {
   "cell_type": "code",
   "execution_count": 14,
   "id": "instant-technique",
   "metadata": {},
   "outputs": [],
   "source": [
    "with open('posts_title_replied_to.txt','a') as f:\n",
    "    for i in posts_title_replied_to:\n",
    "        f.write(i+'\\n')"
   ]
  },
  {
   "cell_type": "code",
   "execution_count": null,
   "id": "sexual-plenty",
   "metadata": {},
   "outputs": [],
   "source": []
  },
  {
   "cell_type": "code",
   "execution_count": null,
   "id": "eight-piano",
   "metadata": {},
   "outputs": [],
   "source": []
  }
 ],
 "metadata": {
  "kernelspec": {
   "display_name": "Python 3",
   "language": "python",
   "name": "python3"
  },
  "language_info": {
   "codemirror_mode": {
    "name": "ipython",
    "version": 3
   },
   "file_extension": ".py",
   "mimetype": "text/x-python",
   "name": "python",
   "nbconvert_exporter": "python",
   "pygments_lexer": "ipython3",
   "version": "3.9.1"
  }
 },
 "nbformat": 4,
 "nbformat_minor": 5
}
