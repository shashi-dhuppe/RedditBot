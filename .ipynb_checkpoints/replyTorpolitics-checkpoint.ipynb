{
 "cells": [
  {
   "cell_type": "code",
   "execution_count": null,
   "id": "editorial-strain",
   "metadata": {},
   "outputs": [],
   "source": [
    "import praw\n",
    "import os\n",
    "import re\n",
    "import random"
   ]
  },
  {
   "cell_type": "markdown",
   "id": "external-graduate",
   "metadata": {},
   "source": [
    "## Getting creds"
   ]
  },
  {
   "cell_type": "code",
   "execution_count": null,
   "id": "hawaiian-quarterly",
   "metadata": {},
   "outputs": [],
   "source": [
    "with open('/Users/shashikantdhuppe/Downloads/secrets') as f:\n",
    "    var = f.read()\n",
    "\n",
    "varList = var.split('\\n')\n",
    "\n",
    "d = {}\n",
    "for i in varList:\n",
    "    d[i.split(':')[0]] = i.split(':')[1]"
   ]
  },
  {
   "cell_type": "markdown",
   "id": "chubby-prime",
   "metadata": {},
   "source": [
    "# Tutorial"
   ]
  },
  {
   "cell_type": "code",
   "execution_count": null,
   "id": "naughty-bookmark",
   "metadata": {},
   "outputs": [],
   "source": [
    "reddit = praw.Reddit('bot1',\n",
    "                     client_id = d['personalusescript'], # hide this somehow before pushing\n",
    "                    client_secret = d['secret'],\n",
    "                     user_agent = d['useragent'],\n",
    "                     username = d['username'],\n",
    "                    password = d['password']) # hide this somehow before pushing"
   ]
  },
  {
   "cell_type": "code",
   "execution_count": null,
   "id": "worse-baker",
   "metadata": {},
   "outputs": [],
   "source": [
    "print(reddit.user.me())"
   ]
  },
  {
   "cell_type": "code",
   "execution_count": null,
   "id": "emerging-accordance",
   "metadata": {},
   "outputs": [],
   "source": [
    "subreddit = reddit.subreddit('politics')"
   ]
  },
  {
   "cell_type": "code",
   "execution_count": null,
   "id": "extended-israeli",
   "metadata": {},
   "outputs": [],
   "source": [
    "if not os.path.isfile(\"posts_replied_to.txt\"):\n",
    "    posts_replied_to = []\n",
    "else:\n",
    "    with open(\"posts_replied_to.txt\", \"r\") as f:\n",
    "        posts_replied_to = f.read()\n",
    "        posts_replied_to = posts_replied_to.split(\"\\n\")\n",
    "        posts_replied_to = list(filter(None, posts_replied_to))"
   ]
  },
  {
   "cell_type": "code",
   "execution_count": null,
   "id": "selected-twins",
   "metadata": {},
   "outputs": [],
   "source": [
    "if not os.path.isfile(\"posts_title_replied_to.txt\"):\n",
    "    posts_title_replied_to = []\n",
    "else:\n",
    "    with open(\"posts_title_replied_to.txt\", \"r\") as f:\n",
    "        posts_title_replied_to = f.read()\n",
    "        posts_title_replied_to = posts_title_replied_to.split(\"\\n\")\n",
    "        posts_title_replied_to = list(filter(None, posts_title_replied_to))"
   ]
  },
  {
   "cell_type": "code",
   "execution_count": null,
   "id": "removable-obligation",
   "metadata": {},
   "outputs": [],
   "source": [
    "def getPotentialResponses(x):\n",
    "    fileName = x + '.txt'\n",
    "    with open(fileName,'r') as f:\n",
    "        fileContent = f.read()\n",
    "    responses = fileContent.split('\\n')\n",
    "    return random.choice(responses)"
   ]
  },
  {
   "cell_type": "code",
   "execution_count": null,
   "id": "robust-coverage",
   "metadata": {},
   "outputs": [],
   "source": [
    "%%time\n",
    "count = 0\n",
    "for submission in subreddit.new():\n",
    "    if submission.id not in posts_replied_to and count<10:\n",
    "        if re.search(\"trump\", submission.title, re.IGNORECASE):\n",
    "            count = count + 1\n",
    "            reply = getPotentialResponses('trump')\n",
    "            submission.reply(reply)\n",
    "            posts_title_replied_to.append('Bot replied '+ reply + ' on ' +submission.title+'\\n')\n",
    "            posts_replied_to.append(submission.id)"
   ]
  },
  {
   "cell_type": "code",
   "execution_count": null,
   "id": "neither-retro",
   "metadata": {},
   "outputs": [],
   "source": [
    "with open('posts_replied_to.txt','a') as f:\n",
    "    for i in posts_replied_to:\n",
    "        f.write(i+'\\n')"
   ]
  },
  {
   "cell_type": "code",
   "execution_count": null,
   "id": "instant-technique",
   "metadata": {},
   "outputs": [],
   "source": [
    "with open('posts_title_replied_to.txt','a') as f:\n",
    "    for i in posts_title_replied_to:\n",
    "        f.write(i+'\\n')"
   ]
  },
  {
   "cell_type": "code",
   "execution_count": null,
   "id": "sexual-plenty",
   "metadata": {},
   "outputs": [],
   "source": []
  },
  {
   "cell_type": "code",
   "execution_count": null,
   "id": "eight-piano",
   "metadata": {},
   "outputs": [],
   "source": []
  }
 ],
 "metadata": {
  "kernelspec": {
   "display_name": "Python 3",
   "language": "python",
   "name": "python3"
  },
  "language_info": {
   "codemirror_mode": {
    "name": "ipython",
    "version": 3
   },
   "file_extension": ".py",
   "mimetype": "text/x-python",
   "name": "python",
   "nbconvert_exporter": "python",
   "pygments_lexer": "ipython3",
   "version": "3.9.1"
  }
 },
 "nbformat": 4,
 "nbformat_minor": 5
}
