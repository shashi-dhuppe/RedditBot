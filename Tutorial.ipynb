{
 "cells": [
  {
   "cell_type": "code",
   "execution_count": 29,
   "id": "editorial-strain",
   "metadata": {},
   "outputs": [],
   "source": [
    "import praw\n",
    "import os\n",
    "import re"
   ]
  },
  {
   "cell_type": "markdown",
   "id": "external-graduate",
   "metadata": {},
   "source": [
    "## Getting creds"
   ]
  },
  {
   "cell_type": "code",
   "execution_count": 89,
   "id": "hawaiian-quarterly",
   "metadata": {},
   "outputs": [],
   "source": [
    "with open('/Users/shashikantdhuppe/Downloads/secrets') as f:\n",
    "    var = f.read()\n",
    "\n",
    "varList = var.split('\\n')\n",
    "\n",
    "d = {}\n",
    "for i in varList:\n",
    "    d[i.split(':')[0]] = i.split(':')[1]"
   ]
  },
  {
   "cell_type": "markdown",
   "id": "chubby-prime",
   "metadata": {},
   "source": [
    "# Tutorial"
   ]
  },
  {
   "cell_type": "code",
   "execution_count": 91,
   "id": "naughty-bookmark",
   "metadata": {},
   "outputs": [],
   "source": [
    "reddit = praw.Reddit('bot1',\n",
    "                     client_id = d['personalusescript'], # hide this somehow before pushing\n",
    "                    client_secret = d['secret'],\n",
    "                     user_agent = d['useragent'],\n",
    "                     username = d['username'],\n",
    "                    password = d['password']) # hide this somehow before pushing"
   ]
  },
  {
   "cell_type": "code",
   "execution_count": 92,
   "id": "worse-baker",
   "metadata": {},
   "outputs": [
    {
     "name": "stdout",
     "output_type": "stream",
     "text": [
      "Butterscotch-Curious\n"
     ]
    }
   ],
   "source": [
    "print(reddit.user.me())"
   ]
  },
  {
   "cell_type": "code",
   "execution_count": 53,
   "id": "emerging-accordance",
   "metadata": {},
   "outputs": [],
   "source": [
    "subreddit = reddit.subreddit('pythonforengineers')"
   ]
  },
  {
   "cell_type": "code",
   "execution_count": 54,
   "id": "extended-israeli",
   "metadata": {},
   "outputs": [],
   "source": [
    "if not os.path.isfile(\"posts_replied_to.txt\"):\n",
    "    posts_replied_to = []\n",
    "else:\n",
    "    with open(\"posts_replied_to.txt\", \"r\") as f:\n",
    "       posts_replied_to = f.read()\n",
    "       posts_replied_to = posts_replied_to.split(\"\\n\")\n",
    "       posts_replied_to = list(filter(None, posts_replied_to))"
   ]
  },
  {
   "cell_type": "code",
   "execution_count": 55,
   "id": "robust-coverage",
   "metadata": {},
   "outputs": [
    {
     "name": "stdout",
     "output_type": "stream",
     "text": [
      "Bot replying to :  I love Python\n",
      "CPU times: user 13.1 ms, sys: 3.12 ms, total: 16.2 ms\n",
      "Wall time: 594 ms\n"
     ]
    }
   ],
   "source": [
    "%%time\n",
    "\n",
    "for submission in subreddit.hot(limit=10):\n",
    "    if submission.id not in posts_replied_to:\n",
    "        if re.search(\"i love python\", submission.title, re.IGNORECASE):\n",
    "            submission.reply(\"Testing my bot v1\")\n",
    "            print(\"Bot replying to : \", submission.title)\n",
    "            posts_replied_to.append(submission.id)"
   ]
  },
  {
   "cell_type": "code",
   "execution_count": null,
   "id": "sexual-plenty",
   "metadata": {},
   "outputs": [],
   "source": []
  },
  {
   "cell_type": "code",
   "execution_count": null,
   "id": "eight-piano",
   "metadata": {},
   "outputs": [],
   "source": []
  }
 ],
 "metadata": {
  "kernelspec": {
   "display_name": "Python 3",
   "language": "python",
   "name": "python3"
  },
  "language_info": {
   "codemirror_mode": {
    "name": "ipython",
    "version": 3
   },
   "file_extension": ".py",
   "mimetype": "text/x-python",
   "name": "python",
   "nbconvert_exporter": "python",
   "pygments_lexer": "ipython3",
   "version": "3.9.1"
  }
 },
 "nbformat": 4,
 "nbformat_minor": 5
}
